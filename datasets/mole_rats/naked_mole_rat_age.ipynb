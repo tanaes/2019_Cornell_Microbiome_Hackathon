{
 "cells": [
  {
   "cell_type": "code",
   "execution_count": 20,
   "metadata": {},
   "outputs": [],
   "source": [
    "%matplotlib inline\n",
    "\n",
    "import pandas as pd\n",
    "import seaborn as sns"
   ]
  },
  {
   "cell_type": "code",
   "execution_count": 8,
   "metadata": {},
   "outputs": [],
   "source": [
    "foo  = pd.read_csv('dataset/anage_data.txt', sep='\\t')"
   ]
  },
  {
   "cell_type": "code",
   "execution_count": 9,
   "metadata": {},
   "outputs": [
    {
     "data": {
      "text/plain": [
       "Index(['HAGRID', 'Kingdom', 'Phylum', 'Class', 'Order', 'Family', 'Genus',\n",
       "       'Species', 'Common name', 'Female maturity (days)',\n",
       "       'Male maturity (days)', 'Gestation/Incubation (days)', 'Weaning (days)',\n",
       "       'Litter/Clutch size', 'Litters/Clutches per year',\n",
       "       'Inter-litter/Interbirth interval', 'Birth weight (g)',\n",
       "       'Weaning weight (g)', 'Adult weight (g)', 'Growth rate (1/days)',\n",
       "       'Maximum longevity (yrs)', 'Source', 'Specimen origin', 'Sample size',\n",
       "       'Data quality', 'IMR (per yr)', 'MRDT (yrs)', 'Metabolic rate (W)',\n",
       "       'Body mass (g)', 'Temperature (K)', 'References'],\n",
       "      dtype='object')"
      ]
     },
     "execution_count": 9,
     "metadata": {},
     "output_type": "execute_result"
    }
   ],
   "source": [
    "foo.columns"
   ]
  },
  {
   "cell_type": "code",
   "execution_count": 11,
   "metadata": {},
   "outputs": [],
   "source": [
    "rod = foo.loc[foo['Order'] == 'Rodentia',]"
   ]
  },
  {
   "cell_type": "code",
   "execution_count": 18,
   "metadata": {},
   "outputs": [
    {
     "name": "stderr",
     "output_type": "stream",
     "text": [
      "/Users/jgs286/miniconda3/envs/qiime2-2019.1/lib/python3.6/site-packages/ipykernel_launcher.py:1: SettingWithCopyWarning: \n",
      "A value is trying to be set on a copy of a slice from a DataFrame.\n",
      "Try using .loc[row_indexer,col_indexer] = value instead\n",
      "\n",
      "See the caveats in the documentation: http://pandas.pydata.org/pandas-docs/stable/indexing.html#indexing-view-versus-copy\n",
      "  \"\"\"Entry point for launching an IPython kernel.\n",
      "/Users/jgs286/miniconda3/envs/qiime2-2019.1/lib/python3.6/site-packages/pandas/core/indexing.py:543: SettingWithCopyWarning: \n",
      "A value is trying to be set on a copy of a slice from a DataFrame.\n",
      "Try using .loc[row_indexer,col_indexer] = value instead\n",
      "\n",
      "See the caveats in the documentation: http://pandas.pydata.org/pandas-docs/stable/indexing.html#indexing-view-versus-copy\n",
      "  self.obj[item] = s\n"
     ]
    }
   ],
   "source": [
    "rod['mole rat'] = False\n",
    "\n",
    "rod.loc[rod['Genus'] == 'Heterocephalus', 'mole rat'] = True"
   ]
  },
  {
   "cell_type": "code",
   "execution_count": 24,
   "metadata": {},
   "outputs": [
    {
     "data": {
      "text/plain": [
       "2458     True\n",
       "2459    False\n",
       "2460     True\n",
       "2461     True\n",
       "2462     True\n",
       "2463     True\n",
       "2464     True\n",
       "2465    False\n",
       "2466     True\n",
       "2467     True\n",
       "2468    False\n",
       "2469     True\n",
       "2470     True\n",
       "2471    False\n",
       "2472     True\n",
       "2473     True\n",
       "2474    False\n",
       "2475     True\n",
       "2476     True\n",
       "2477     True\n",
       "2478     True\n",
       "2479     True\n",
       "2480     True\n",
       "2481     True\n",
       "2482     True\n",
       "2483     True\n",
       "2484    False\n",
       "2485     True\n",
       "2486     True\n",
       "2487    False\n",
       "        ...  \n",
       "2786    False\n",
       "2787     True\n",
       "2788     True\n",
       "2789     True\n",
       "2790     True\n",
       "2791     True\n",
       "2792     True\n",
       "2793     True\n",
       "2794    False\n",
       "2795     True\n",
       "2796     True\n",
       "2797    False\n",
       "2798    False\n",
       "2799    False\n",
       "2800     True\n",
       "2801     True\n",
       "2802     True\n",
       "2803     True\n",
       "2804    False\n",
       "2805    False\n",
       "2806    False\n",
       "2807     True\n",
       "2808     True\n",
       "2809     True\n",
       "2810     True\n",
       "2811     True\n",
       "2812    False\n",
       "2813     True\n",
       "2814    False\n",
       "2815     True\n",
       "Name: Maximum longevity (yrs), Length: 358, dtype: bool"
      ]
     },
     "execution_count": 24,
     "metadata": {},
     "output_type": "execute_result"
    }
   ],
   "source": [
    "rod['Maximum longevity (yrs)'].notna()"
   ]
  },
  {
   "cell_type": "code",
   "execution_count": 28,
   "metadata": {},
   "outputs": [],
   "source": [
    "rod = rod.loc[rod['Maximum longevity (yrs)'].notna(),]"
   ]
  },
  {
   "cell_type": "code",
   "execution_count": 30,
   "metadata": {},
   "outputs": [
    {
     "data": {
      "text/plain": [
       "<matplotlib.axes._subplots.AxesSubplot at 0x1a2af0ed30>"
      ]
     },
     "execution_count": 30,
     "metadata": {},
     "output_type": "execute_result"
    },
    {
     "data": {
      "image/png": "[encoded data removed]",
      "text/plain": [
       "<Figure size 432x288 with 1 Axes>"
      ]
     },
     "metadata": {
      "needs_background": "light"
     },
     "output_type": "display_data"
    }
   ],
   "source": [
    "sns.distplot(rod.loc[rod['Genus'] != 'Heterocephalus', \"Maximum longevity (yrs)\"],\n",
    "             color=\"skyblue\",\n",
    "             label=\"Other rodents\")\n",
    "sns.distplot(rod.loc[rod['Genus'] == 'Heterocephalus', \"Maximum longevity (yrs)\"],\n",
    "             color=\"red\",\n",
    "             label=\"NMRs\")"
   ]
  },
  {
   "cell_type": "code",
   "execution_count": 19,
   "metadata": {
    "scrolled": false
   },
   "outputs": [
    {
     "data": {
      "text/plain": [
       "array([<matplotlib.axes._subplots.AxesSubplot object at 0x11f0b5048>,\n",
       "       <matplotlib.axes._subplots.AxesSubplot object at 0x1214555c0>],\n",
       "      dtype=object)"
      ]
     },
     "execution_count": 19,
     "metadata": {},
     "output_type": "execute_result"
    },
    {
     "data": {
      "image/png": "[encoded data removed]",
      "text/plain": [
       "<Figure size 432x288 with 2 Axes>"
      ]
     },
     "metadata": {
      "needs_background": "light"
     },
     "output_type": "display_data"
    }
   ],
   "source": [
    "rod.hist(column='Maximum longevity (yrs)', by='mole rat')"
   ]
  },
  {
   "cell_type": "code",
   "execution_count": null,
   "metadata": {},
   "outputs": [],
   "source": []
  },
  {
   "cell_type": "code",
   "execution_count": null,
   "metadata": {},
   "outputs": [],
   "source": []
  }
 ],
 "metadata": {
  "kernelspec": {
   "display_name": "Python 3",
   "language": "python",
   "name": "python3"
  },
  "language_info": {
   "codemirror_mode": {
    "name": "ipython",
    "version": 3
   },
   "file_extension": ".py",
   "mimetype": "text/x-python",
   "name": "python",
   "nbconvert_exporter": "python",
   "pygments_lexer": "ipython3",
   "version": "3.6.5"
  }
 },
 "nbformat": 4,
 "nbformat_minor": 2
}
